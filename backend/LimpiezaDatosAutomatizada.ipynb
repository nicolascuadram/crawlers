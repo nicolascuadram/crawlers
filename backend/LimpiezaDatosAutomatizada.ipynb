{
  "cells": [
    {
      "cell_type": "markdown",
      "metadata": {
        "id": "UiwcJT_NxolE"
      },
      "source": [
        "# Limpieza de Datos Automatizada\n"
      ]
    },
    {
      "cell_type": "code",
      "execution_count": null,
      "metadata": {
        "id": "Ibk9whmyxolJ"
      },
      "outputs": [],
      "source": [
        "import pandas as pd\n",
        "import numpy as np\n",
        "from datetime import datetime\n",
        "import warnings\n",
        "warnings.filterwarnings('ignore')"
      ]
    },
    {
      "cell_type": "code",
      "execution_count": null,
      "metadata": {
        "id": "DHxFlxjaxolM"
      },
      "outputs": [],
      "source": [
        "def limpiar_datos(df):\n",
        "    \"\"\"\n",
        "    Función para limpiar un DataFrame eliminando valores nulos,\n",
        "    corrigiendo fechas fuera de rango y eliminando datos inconsistentes.\n",
        "    \"\"\"\n",
        "    # Copia del DataFrame original\n",
        "    df = df.copy()\n",
        "\n",
        "    # Eliminar columnas duplicadas\n",
        "    df = df.loc[:,~df.columns.duplicated()]\n",
        "\n",
        "    # Eliminar columnas constantes (sin variación)\n",
        "    df = df.loc[:, df.nunique() > 1]\n",
        "\n",
        "    # Eliminar filas completamente vacías\n",
        "    df.dropna(how='all', inplace=True)\n",
        "\n",
        "    # Eliminar filas con valores nulos\n",
        "    df.dropna(inplace=True)\n",
        "\n",
        "    # Eliminar duplicados\n",
        "    df.drop_duplicates(inplace=True)\n",
        "\n",
        "    # Rango de fechas permitido\n",
        "    min_fecha = pd.Timestamp('1800-01-01')\n",
        "    max_fecha = pd.Timestamp(datetime.now())\n",
        "\n",
        "    for col in df.columns:\n",
        "        if df[col].dtype == 'object':\n",
        "            try:\n",
        "                df[col] = pd.to_datetime(df[col], errors='coerce')\n",
        "                fechas_validas = df[col].between(min_fecha, max_fecha)\n",
        "                if fechas_validas.sum() > 0:\n",
        "                    df = df[fechas_validas]\n",
        "            except:\n",
        "                continue\n",
        "\n",
        "    # Convertir tipos donde sea posible\n",
        "    df = df.convert_dtypes()\n",
        "\n",
        "    return df"
      ]
    },
    {
      "cell_type": "code",
      "execution_count": null,
      "metadata": {
        "id": "00JpokOkxolQ"
      },
      "outputs": [],
      "source": [
        "# Cargar datos (CSV)\n",
        "# df = pd.read_csv(\"datos.csv\")\n",
        "# df_limpio = limpiar_datos(df)\n",
        "# df_limpio.head()"
      ]
    }
  ],
  "metadata": {
    "kernelspec": {
      "display_name": "Python 3",
      "language": "python",
      "name": "python3"
    },
    "language_info": {
      "name": "python",
      "version": ""
    },
    "colab": {
      "provenance": []
    }
  },
  "nbformat": 4,
  "nbformat_minor": 0
}